{
  "nbformat": 4,
  "nbformat_minor": 0,
  "metadata": {
    "colab": {
      "provenance": [],
      "collapsed_sections": [
        "0wOQAZs5pc--",
        "KSlN3yHqYklG",
        "EM7whBJCYoAo",
        "4Of9eVA-YrdM",
        "bamQiAODYuh1",
        "OH-pJp9IphqM",
        "PIIx-8_IphqN",
        "BZR9WyysphqO",
        "NC_X3p0fY2L0"
      ],
      "include_colab_link": true
    },
    "kernelspec": {
      "name": "python3",
      "display_name": "Python 3"
    },
    "language_info": {
      "name": "python"
    },
    "gpuClass": "standard"
  },
  "cells": [
    {
      "cell_type": "markdown",
      "metadata": {
        "id": "view-in-github",
        "colab_type": "text"
      },
      "source": [
        "<a href=\"https://colab.research.google.com/github/MonaRansing/EDA_Country_wise_population/blob/main/Population_by_country.ipynb\" target=\"_parent\"><img src=\"https://colab.research.google.com/assets/colab-badge.svg\" alt=\"Open In Colab\"/></a>"
      ]
    },
    {
      "cell_type": "markdown",
      "source": [
        "# **Project Name**    - Analysis of Country_wise_population from 1995 to 2020\n",
        "\n"
      ],
      "metadata": {
        "id": "vncDsAP0Gaoa"
      }
    },
    {
      "cell_type": "markdown",
      "source": [
        "##### **Project Type**    - EDA\n",
        "##### **Contribution**    - Individual\n",
        "\n",
        "\n"
      ],
      "metadata": {
        "id": "beRrZCGUAJYm"
      }
    },
    {
      "cell_type": "markdown",
      "source": [
        "### **Project Summary -**"
      ],
      "metadata": {
        "id": "FJNUwmbgGyua"
      }
    },
    {
      "cell_type": "markdown",
      "source": [
        "**Pending**"
      ],
      "metadata": {
        "id": "F6v_1wHtG2nS"
      }
    },
    {
      "cell_type": "markdown",
      "source": [
        "# **GitHub Link -**"
      ],
      "metadata": {
        "id": "w6K7xa23Elo4"
      }
    },
    {
      "cell_type": "markdown",
      "source": [],
      "metadata": {
        "id": "h1o69JH3Eqqn"
      }
    },
    {
      "cell_type": "markdown",
      "source": [
        "# **Problem Statement**\n"
      ],
      "metadata": {
        "id": "yQaldy8SH6Dl"
      }
    },
    {
      "cell_type": "markdown",
      "source": [
        "**In this project I am going to analyse the country_wise_population dataset. This dataset have information of coutry and it's population from 1995 to 2020 and also includes information of yearlt percent changes in population, density, fertility rate, urban population, what is the the share of that pertocular country in world pupulation in percent, global rank of country etc. Using this datatset I am going to find out some insights of world wide population.**"
      ],
      "metadata": {
        "id": "DpeJGUA3kjGy"
      }
    },
    {
      "cell_type": "markdown",
      "source": [
        "## **Define Your Business Objective?**"
      ],
      "metadata": {
        "id": "PH-0ReGfmX4f"
      }
    },
    {
      "cell_type": "markdown",
      "source": [
        "**Analyse the data on country wise population and find out some insights related to population.** \n"
      ],
      "metadata": {
        "id": "PhDvGCAqmjP1"
      }
    },
    {
      "cell_type": "markdown",
      "source": [
        "# ***Let's Begin !***"
      ],
      "metadata": {
        "id": "O_i_v8NEhb9l"
      }
    },
    {
      "cell_type": "markdown",
      "source": [
        "## ***1. Know Your Data***"
      ],
      "metadata": {
        "id": "HhfV-JJviCcP"
      }
    },
    {
      "cell_type": "markdown",
      "source": [
        "### Import Libraries"
      ],
      "metadata": {
        "id": "Y3lxredqlCYt"
      }
    },
    {
      "cell_type": "code",
      "source": [
        "# Importing libraries\n",
        "import numpy as np\n",
        "import pandas as pd\n",
        "from numpy import math\n",
        "from numpy import loadtxt\n",
        "import seaborn as sns\n",
        "import matplotlib.pyplot as plt\n",
        "%matplotlib inline\n",
        "from matplotlib import rcParams\n"
      ],
      "metadata": {
        "id": "M8Vqi-pPk-HR"
      },
      "execution_count": null,
      "outputs": []
    },
    {
      "cell_type": "markdown",
      "source": [
        "### Dataset Loading"
      ],
      "metadata": {
        "id": "3RnN4peoiCZX"
      }
    },
    {
      "cell_type": "code",
      "source": [
        "# My drive is mounted here.\n",
        "from google.colab import drive               \n",
        "drive.mount('/content/drive')"
      ],
      "metadata": {
        "id": "4CkvbW_SlZ_R",
        "colab": {
          "base_uri": "https://localhost:8080/"
        },
        "outputId": "4a07b5fa-7cee-4eb8-b5b1-badf55413fee"
      },
      "execution_count": null,
      "outputs": [
        {
          "output_type": "stream",
          "name": "stdout",
          "text": [
            "Mounted at /content/drive\n"
          ]
        }
      ]
    },
    {
      "cell_type": "code",
      "source": [
        "# Hotel booking dataset read using pd.read_csv\n",
        "working_dataset = '/content/drive/MyDrive/Almabetter/Data Science/dataset/Countries Population from 1995 to 2020.csv'\n",
        "population_df = pd.read_csv(working_dataset)"
      ],
      "metadata": {
        "id": "CHdzSFM8igMC"
      },
      "execution_count": null,
      "outputs": []
    },
    {
      "cell_type": "markdown",
      "source": [
        "### Dataset First View"
      ],
      "metadata": {
        "id": "x71ZqKXriCWQ"
      }
    },
    {
      "cell_type": "code",
      "source": [
        "#First view of dataset\n",
        "population_df.head()"
      ],
      "metadata": {
        "id": "LWNFOSvLl09H"
      },
      "execution_count": null,
      "outputs": []
    },
    {
      "cell_type": "code",
      "source": [
        "population_df.tail(5)"
      ],
      "metadata": {
        "id": "0p6l4uVna_Id"
      },
      "execution_count": null,
      "outputs": []
    },
    {
      "cell_type": "markdown",
      "source": [
        "### Dataset Rows & Columns count"
      ],
      "metadata": {
        "id": "7hBIi_osiCS2"
      }
    },
    {
      "cell_type": "code",
      "source": [
        "# Counting rows and columns in dataframe using shape\n",
        "population_df.shape                                "
      ],
      "metadata": {
        "id": "Kllu7SJgmLij",
        "colab": {
          "base_uri": "https://localhost:8080/"
        },
        "outputId": "83f2e2a0-8c87-4fd5-e9b5-bd66704a1c67"
      },
      "execution_count": null,
      "outputs": [
        {
          "output_type": "execute_result",
          "data": {
            "text/plain": [
              "(4195, 14)"
            ]
          },
          "metadata": {},
          "execution_count": 11
        }
      ]
    },
    {
      "cell_type": "markdown",
      "source": [
        "### The country_wise_population dataset have 4195 rows and 14 columns."
      ],
      "metadata": {
        "id": "z2XMXra1nsLw"
      }
    },
    {
      "cell_type": "markdown",
      "source": [
        "### Dataset Information"
      ],
      "metadata": {
        "id": "JlHwYmJAmNHm"
      }
    },
    {
      "cell_type": "code",
      "source": [
        "#understanding the given information in dataset\n",
        "population_df.info()                               "
      ],
      "metadata": {
        "id": "e9hRXRi6meOf",
        "colab": {
          "base_uri": "https://localhost:8080/"
        },
        "outputId": "98d3d795-934e-4c01-ea5b-d0a946f4ea49"
      },
      "execution_count": null,
      "outputs": [
        {
          "output_type": "stream",
          "name": "stdout",
          "text": [
            "<class 'pandas.core.frame.DataFrame'>\n",
            "RangeIndex: 4195 entries, 0 to 4194\n",
            "Data columns (total 14 columns):\n",
            " #   Column                          Non-Null Count  Dtype  \n",
            "---  ------                          --------------  -----  \n",
            " 0   Year                            4195 non-null   int64  \n",
            " 1   Country                         4195 non-null   object \n",
            " 2   Population                      4195 non-null   int64  \n",
            " 3   Yearly % Change                 4195 non-null   float64\n",
            " 4   Yearly Change                   4195 non-null   int64  \n",
            " 5   Migrants (net)                  3600 non-null   float64\n",
            " 6   Median Age                      3600 non-null   float64\n",
            " 7   Fertility Rate                  3600 non-null   float64\n",
            " 8   Density (P/Km²)                 4195 non-null   object \n",
            " 9   Urban Pop %                     4082 non-null   float64\n",
            " 10  Urban Population                4082 non-null   float64\n",
            " 11  Country's Share of World Pop %  4195 non-null   float64\n",
            " 12  World Population                4195 non-null   int64  \n",
            " 13  Country Global Rank             4195 non-null   int64  \n",
            "dtypes: float64(7), int64(5), object(2)\n",
            "memory usage: 459.0+ KB\n"
          ]
        }
      ]
    },
    {
      "cell_type": "markdown",
      "source": [
        "### In given dataset \"migrants\",\"Median age\",\"Fertility rate\",\"Urban Pop%\",\"Urban Population\" these columns have null values."
      ],
      "metadata": {
        "id": "l3_7b2ryoA7t"
      }
    },
    {
      "cell_type": "code",
      "source": [
        " # Here is total description of dataset\n",
        "population_df.describe()                       "
      ],
      "metadata": {
        "id": "iSX0fCaakx-j"
      },
      "execution_count": null,
      "outputs": []
    },
    {
      "cell_type": "code",
      "source": [
        "#Creating the copy of the dataset \n",
        "population_df1 = population_df.copy()\n",
        "population_df1.head()"
      ],
      "metadata": {
        "id": "2adubHByaRwP"
      },
      "execution_count": null,
      "outputs": []
    },
    {
      "cell_type": "markdown",
      "source": [
        "### Duplicate Values"
      ],
      "metadata": {
        "id": "ZRdMeyGTDTdY"
      }
    },
    {
      "cell_type": "code",
      "source": [
        "# Dataset Duplicate Value Count\n",
        "duplicate_values = population_df1.duplicated().value_counts()  \n",
        "duplicate_values"
      ],
      "metadata": {
        "colab": {
          "base_uri": "https://localhost:8080/"
        },
        "id": "npTaLcbHbW6F",
        "outputId": "950084e4-5c02-4ee8-b7a7-845bd5b65bf6"
      },
      "execution_count": null,
      "outputs": [
        {
          "output_type": "execute_result",
          "data": {
            "text/plain": [
              "False    4195\n",
              "dtype: int64"
            ]
          },
          "metadata": {},
          "execution_count": 15
        }
      ]
    },
    {
      "cell_type": "markdown",
      "source": [
        "### Given dataset do not have any duplicate values."
      ],
      "metadata": {
        "id": "-nmfHI2-owrq"
      }
    },
    {
      "cell_type": "markdown",
      "source": [
        "### Missing Values"
      ],
      "metadata": {
        "id": "lpbQFtUKH3Ao"
      }
    },
    {
      "cell_type": "code",
      "source": [
        "#missing value count \n",
        "missing_value = population_df.isnull().sum().sort_values(ascending=False)\n",
        "missing_value"
      ],
      "metadata": {
        "colab": {
          "base_uri": "https://localhost:8080/"
        },
        "id": "RgnNG8vGH8zG",
        "outputId": "94fff929-4859-4605-cea9-db9b9adf9d95"
      },
      "execution_count": 33,
      "outputs": [
        {
          "output_type": "execute_result",
          "data": {
            "text/plain": [
              "Migrants (net)                    595\n",
              "Median Age                        595\n",
              "Fertility Rate                    595\n",
              "Urban Pop %                       113\n",
              "Urban Population                  113\n",
              "Year                                0\n",
              "Country                             0\n",
              "Population                          0\n",
              "Yearly % Change                     0\n",
              "Yearly Change                       0\n",
              "Density (P/Km²)                     0\n",
              "Country's Share of World Pop %      0\n",
              "World Population                    0\n",
              "Country Global Rank                 0\n",
              "dtype: int64"
            ]
          },
          "metadata": {},
          "execution_count": 33
        }
      ]
    },
    {
      "cell_type": "markdown",
      "source": [
        "### What did you know about your dataset?"
      ],
      "metadata": {
        "id": "H0kj-8xxnORC"
      }
    },
    {
      "cell_type": "markdown",
      "source": [
        "**The above dataset have 4195 rows and 14 columns. There is no any duplicate value in dataset. There are 5 columns which have missing values and those columns are \"migrants\",\"Median age\",\"Fertility rate\",\"Urban Pop%\",\"Urban Population\".**"
      ],
      "metadata": {
        "id": "gfoNAAC-nUe_"
      }
    },
    {
      "cell_type": "markdown",
      "source": [
        "## ***2. Understanding Your Variables***"
      ],
      "metadata": {
        "id": "nA9Y7ga8ng1Z"
      }
    },
    {
      "cell_type": "code",
      "source": [
        "# Dataset Columns\n",
        "population_df1.columns"
      ],
      "metadata": {
        "id": "j7xfkqrt5Ag5",
        "colab": {
          "base_uri": "https://localhost:8080/"
        },
        "outputId": "3d75ccc6-8770-4d95-9dd9-7c2eb8a59c4f"
      },
      "execution_count": null,
      "outputs": [
        {
          "output_type": "execute_result",
          "data": {
            "text/plain": [
              "Index(['Year', 'Country', 'Population', 'Yearly % Change', 'Yearly Change',\n",
              "       'Migrants (net)', 'Median Age', 'Fertility Rate', 'Density (P/Km²)',\n",
              "       'Urban Pop %', 'Urban Population', 'Country's Share of World Pop %',\n",
              "       'World Population', 'Country Global Rank'],\n",
              "      dtype='object')"
            ]
          },
          "metadata": {},
          "execution_count": 20
        }
      ]
    },
    {
      "cell_type": "code",
      "source": [
        "population_df1.head()"
      ],
      "metadata": {
        "id": "QXPABm6o7e8s"
      },
      "execution_count": null,
      "outputs": []
    },
    {
      "cell_type": "code",
      "source": [
        "# Dataset Describe\n",
        "population_df1.describe(include='all')"
      ],
      "metadata": {
        "id": "DnOaZdaE5Q5t"
      },
      "execution_count": null,
      "outputs": []
    },
    {
      "cell_type": "markdown",
      "source": [
        "### Variables Description "
      ],
      "metadata": {
        "id": "PBTbrJXOngz2"
      }
    },
    {
      "cell_type": "markdown",
      "source": [
        "* **Year** : Year of population\n",
        "* **Country** : Name of country\n",
        "* **Population** : Population of country\n",
        "* **Yearly%Change** : percent change in population yearly\n",
        "* **Yearly Change** : actual change in population yearly\n",
        "* **Migrants(net)** : number of migrants in that country\n",
        "* **Median Age** : Median age of country (Median age : The age which divides the population of country in two parts of equal size.)\n",
        "* **Fertility Rate** : fertility rate of that country\n",
        "* **Density** : Density of that country\n",
        "* **Urban pop%** : Percent population in urban area\n",
        "* **Urban Population\" : Actual population in urban area.\n",
        "* **Country's share of World pop%** : share of that country in world population in percent.\n",
        "* **World Population** : World population in that perticular year.\n",
        "* **Country Golbal Rank** : Rank of country in global by population.\n",
        "\n",
        "\n"
      ],
      "metadata": {
        "id": "aJV4KIxSnxay"
      }
    },
    {
      "cell_type": "markdown",
      "source": [
        "### Check Unique Values for each variable."
      ],
      "metadata": {
        "id": "u3PMJOP6ngxN"
      }
    },
    {
      "cell_type": "code",
      "source": [
        "# Check Unique Values for each variable.\n",
        "# I describe all the unique values using lambda fuction of indivisual column.\n",
        "print(population_df1.apply(lambda col: col.unique()))"
      ],
      "metadata": {
        "id": "zms12Yq5n-jE",
        "colab": {
          "base_uri": "https://localhost:8080/"
        },
        "outputId": "689eff27-1b29-4d35-a30b-03dc2adfede0"
      },
      "execution_count": null,
      "outputs": [
        {
          "output_type": "stream",
          "name": "stdout",
          "text": [
            "Year                              [2020, 2019, 2018, 2017, 2016, 2015, 2010, 200...\n",
            "Country                           [China, India, United States, Indonesia, Pakis...\n",
            "Population                        [1439323776, 1433783686, 1427647786, 142102179...\n",
            "Yearly % Change                   [0.39, 0.43, 0.47, 0.49, 0.51, 0.55, 0.57, 0.6...\n",
            "Yearly Change                     [5540090, 6135900, 6625995, 6972440, 7201481, ...\n",
            "Migrants (net)                    [-348399.0, -310442.0, -435677.0, -393116.0, -...\n",
            "Median Age                        [38.4, 37.0, 36.7, 35.0, 32.6, 30.0, 27.4, 24....\n",
            "Fertility Rate                    [1.69, 1.65, 1.64, 1.62, 1.61, 1.83, 2.73, 2.5...\n",
            "Density (P/Km²)                   [153, 152, 151, 150, 146, 142, 137, 132, 125, ...\n",
            "Urban Pop %                       [60.8, 59.7, 58.6, 57.5, 56.3, 55.1, 48.9, 42....\n",
            "Urban Population                  [875075919.0, 856409297.0, 837022095.0, 816957...\n",
            "Country's Share of World Pop %    [18.47, 18.59, 18.71, 18.83, 18.94, 19.06, 19....\n",
            "World Population                  [7794798739, 7713468100, 7631091040, 754785892...\n",
            "Country Global Rank               [1, 2, 3, 4, 5, 6, 7, 8, 10, 14, 9, 11, 13, 12...\n",
            "dtype: object\n"
          ]
        }
      ]
    },
    {
      "cell_type": "markdown",
      "source": [
        "## 3. ***Data Wrangling***"
      ],
      "metadata": {
        "id": "dauF4eBmngu3"
      }
    },
    {
      "cell_type": "markdown",
      "source": [
        "### Data Wrangling Code"
      ],
      "metadata": {
        "id": "bKJF3rekwFvQ"
      }
    },
    {
      "cell_type": "code",
      "source": [
        "# Null values are replaced using for loop and .fillna()\n",
        "null_columns=['Migrants (net)','Median Age','Fertility Rate','Urban Pop %','Urban Population']\n",
        "for columns in null_columns:\n",
        "  population_df1[columns].fillna(0,inplace=True)"
      ],
      "metadata": {
        "id": "R3xmNp8zMeYK"
      },
      "execution_count": null,
      "outputs": []
    },
    {
      "cell_type": "code",
      "source": [
        "population_df1.isna().sum().sort_values(ascending=False)"
      ],
      "metadata": {
        "colab": {
          "base_uri": "https://localhost:8080/"
        },
        "id": "u7AOlUcBVKKu",
        "outputId": "ebe5dacf-03d1-4682-b835-85f8ee7c52d4"
      },
      "execution_count": 31,
      "outputs": [
        {
          "output_type": "execute_result",
          "data": {
            "text/plain": [
              "Year                              0\n",
              "Country                           0\n",
              "Population                        0\n",
              "Yearly % Change                   0\n",
              "Yearly Change                     0\n",
              "Migrants (net)                    0\n",
              "Median Age                        0\n",
              "Fertility Rate                    0\n",
              "Density (P/Km²)                   0\n",
              "Urban Pop %                       0\n",
              "Urban Population                  0\n",
              "Country's Share of World Pop %    0\n",
              "World Population                  0\n",
              "Country Global Rank               0\n",
              "dtype: int64"
            ]
          },
          "metadata": {},
          "execution_count": 31
        }
      ]
    },
    {
      "cell_type": "markdown",
      "source": [
        "### What all manipulations have you done and insights you found?"
      ],
      "metadata": {
        "id": "MSa1f5Uengrz"
      }
    },
    {
      "cell_type": "markdown",
      "source": [
        "* **In given dataset there is no any duplicate values.**\n",
        "* **Five coumns have missing values so that values are replace by zero using fillna function.**"
      ],
      "metadata": {
        "id": "LbyXE7I1olp8"
      }
    },
    {
      "cell_type": "markdown",
      "source": [
        "## ***4. Data Visualization, Storytelling & Experimenting with charts : Understand the relationships between variables***"
      ],
      "metadata": {
        "id": "GF8Ens_Soomf"
      }
    },
    {
      "cell_type": "markdown",
      "source": [
        "#### Chart - 1"
      ],
      "metadata": {
        "id": "0wOQAZs5pc--"
      }
    },
    {
      "cell_type": "markdown",
      "source": [
        "1) Top 30 countries by population in 2020."
      ],
      "metadata": {
        "id": "Ij1oQSbUaQBR"
      }
    },
    {
      "cell_type": "code",
      "source": [
        "# Chart - 1 visualization code\n",
        "top_30_countries = population_df1[population_df1['Year']==2020][:30]\n",
        "top_30_countries"
      ],
      "metadata": {
        "id": "24SqS5PAfIDQ"
      },
      "execution_count": null,
      "outputs": []
    },
    {
      "cell_type": "code",
      "source": [
        "plt.figure(figsize=(14,7))\n",
        "sns.barplot(x = \"Country\",y = \"Population\", data = top_30_countries, palette=\"YlGnBu_r\",saturation = 10,errcolor = \"y\")\n",
        "plt.title('Top 30 countries by population', fontsize=20)\n",
        "plt.ylabel('Population in billion', fontsize=15)\n",
        "plt.xlabel('Countries', fontsize=15)\n",
        "plt.xticks(rotation = 90)\n",
        "plt.show()"
      ],
      "metadata": {
        "colab": {
          "base_uri": "https://localhost:8080/",
          "height": 539
        },
        "id": "ipjxK_kWEIX_",
        "outputId": "d7ffe866-66e0-4418-91fd-1faf03fed6e1"
      },
      "execution_count": 46,
      "outputs": [
        {
          "output_type": "display_data",
          "data": {
            "text/plain": [
              "<Figure size 1008x504 with 1 Axes>"
            ],
            "image/png": "[encoded data removed]"
          },
          "metadata": {
            "needs_background": "light"
          }
        }
      ]
    }
  ]
}